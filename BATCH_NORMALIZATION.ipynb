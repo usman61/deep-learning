{
 "cells": [
  {
   "cell_type": "code",
   "execution_count": 2,
   "metadata": {
    "executionInfo": {
     "elapsed": 3006,
     "status": "ok",
     "timestamp": 1605921380988,
     "user": {
      "displayName": "Sunny Chandra",
      "photoUrl": "",
      "userId": "02736288732268026673"
     },
     "user_tz": -330
    },
    "id": "RdhZ5mXDRJY6"
   },
   "outputs": [],
   "source": [
    "import os\n",
    "import tensorflow as tf\n",
    "import numpy as np\n",
    "import matplotlib.pyplot as plt\n",
    "import seaborn as sns\n",
    "plt.style.use(\"fivethirtyeight\")"
   ]
  },
  {
   "cell_type": "markdown",
   "metadata": {
    "id": "iVZGX9vZJVYw"
   },
   "source": [
    "Let's train a neural network on Fashion MNIST using the Leaky ReLU:"
   ]
  },
  {
   "cell_type": "code",
   "execution_count": 3,
   "metadata": {
    "colab": {
     "base_uri": "https://localhost:8080/"
    },
    "executionInfo": {
     "elapsed": 4823,
     "status": "ok",
     "timestamp": 1605921382818,
     "user": {
      "displayName": "Sunny Chandra",
      "photoUrl": "",
      "userId": "02736288732268026673"
     },
     "user_tz": -330
    },
    "id": "AFV1JjZdJVYw",
    "outputId": "410f9ad1-2cea-4d0b-8d69-b0d7b651623a"
   },
   "outputs": [
    {
     "name": "stdout",
     "output_type": "stream",
     "text": [
      "Downloading data from https://storage.googleapis.com/tensorflow/tf-keras-datasets/train-labels-idx1-ubyte.gz\n",
      "29515/29515 [==============================] - 0s 2us/step\n",
      "Downloading data from https://storage.googleapis.com/tensorflow/tf-keras-datasets/train-images-idx3-ubyte.gz\n",
      "26421880/26421880 [==============================] - 22s 1us/step\n",
      "Downloading data from https://storage.googleapis.com/tensorflow/tf-keras-datasets/t10k-labels-idx1-ubyte.gz\n",
      "5148/5148 [==============================] - 0s 0us/step\n",
      "Downloading data from https://storage.googleapis.com/tensorflow/tf-keras-datasets/t10k-images-idx3-ubyte.gz\n",
      "4422102/4422102 [==============================] - 3s 1us/step\n"
     ]
    }
   ],
   "source": [
    "(X_train_full, y_train_full), (X_test, y_test) = tf.keras.datasets.fashion_mnist.load_data()\n",
    "X_train_full = X_train_full / 255.0\n",
    "X_test = X_test / 255.0\n",
    "X_valid, X_train = X_train_full[:5000], X_train_full[5000:]\n",
    "y_valid, y_train = y_train_full[:5000], y_train_full[5000:]"
   ]
  },
  {
   "cell_type": "code",
   "execution_count": 22,
   "metadata": {},
   "outputs": [
    {
     "data": {
      "text/plain": [
       "(60000, 28, 28)"
      ]
     },
     "execution_count": 22,
     "metadata": {},
     "output_type": "execute_result"
    }
   ],
   "source": [
    "X_train_full.shape"
   ]
  },
  {
   "cell_type": "code",
   "execution_count": 26,
   "metadata": {},
   "outputs": [
    {
     "data": {
      "text/plain": [
       "array([0, 1, 2, 3, 4, 5, 6, 7, 8, 9], dtype=uint8)"
      ]
     },
     "execution_count": 26,
     "metadata": {},
     "output_type": "execute_result"
    }
   ],
   "source": [
    "np.unique(y_train_full)"
   ]
  },
  {
   "cell_type": "code",
   "execution_count": 24,
   "metadata": {},
   "outputs": [
    {
     "data": {
      "image/png": "[encoded data removed]",
      "text/plain": [
       "<Figure size 640x480 with 1 Axes>"
      ]
     },
     "metadata": {},
     "output_type": "display_data"
    }
   ],
   "source": [
    "fig = plt.figure\n",
    "plt.imshow(X_train_full[3], cmap='gray')\n",
    "plt.show()"
   ]
  },
  {
   "cell_type": "code",
   "execution_count": 27,
   "metadata": {
    "executionInfo": {
     "elapsed": 10034,
     "status": "ok",
     "timestamp": 1605921388033,
     "user": {
      "displayName": "Sunny Chandra",
      "photoUrl": "",
      "userId": "02736288732268026673"
     },
     "user_tz": -330
    },
    "id": "W8IKWEjkJVYw"
   },
   "outputs": [],
   "source": [
    "tf.random.set_seed(42)\n",
    "np.random.seed(42)\n",
    "\n",
    "LAYERS = [ tf.keras.layers.Flatten(input_shape=[28, 28]),\n",
    "    tf.keras.layers.Dense(300, kernel_initializer=\"he_normal\"),\n",
    "    tf.keras.layers.LeakyReLU(),\n",
    "    tf.keras.layers.Dense(100, kernel_initializer=\"he_normal\"),\n",
    "    tf.keras.layers.LeakyReLU(),\n",
    "    tf.keras.layers.Dense(10, activation=\"softmax\")]\n",
    "\n",
    "\n",
    "model = tf.keras.models.Sequential(LAYERS)"
   ]
  },
  {
   "cell_type": "code",
   "execution_count": 29,
   "metadata": {
    "executionInfo": {
     "elapsed": 10034,
     "status": "ok",
     "timestamp": 1605921388037,
     "user": {
      "displayName": "Sunny Chandra",
      "photoUrl": "",
      "userId": "02736288732268026673"
     },
     "user_tz": -330
    },
    "id": "YHVxFkNJJVYw"
   },
   "outputs": [],
   "source": [
    "model.compile(loss=\"sparse_categorical_crossentropy\",\n",
    "              optimizer=tf.keras.optimizers.SGD(learning_rate=1e-3),\n",
    "              metrics=[\"accuracy\"])"
   ]
  },
  {
   "cell_type": "code",
   "execution_count": 30,
   "metadata": {
    "colab": {
     "base_uri": "https://localhost:8080/"
    },
    "executionInfo": {
     "elapsed": 10031,
     "status": "ok",
     "timestamp": 1605921388037,
     "user": {
      "displayName": "Sunny Chandra",
      "photoUrl": "",
      "userId": "02736288732268026673"
     },
     "user_tz": -330
    },
    "id": "sbVQZkWNUUBZ",
    "outputId": "0a376e81-b309-49e5-8d3c-dabd21b88477"
   },
   "outputs": [
    {
     "name": "stdout",
     "output_type": "stream",
     "text": [
      "Model: \"sequential\"\n",
      "_________________________________________________________________\n",
      " Layer (type)                Output Shape              Param #   \n",
      "=================================================================\n",
      " flatten (Flatten)           (None, 784)               0         \n",
      "                                                                 \n",
      " dense (Dense)               (None, 300)               235500    \n",
      "                                                                 \n",
      " leaky_re_lu (LeakyReLU)     (None, 300)               0         \n",
      "                                                                 \n",
      " dense_1 (Dense)             (None, 100)               30100     \n",
      "                                                                 \n",
      " leaky_re_lu_1 (LeakyReLU)   (None, 100)               0         \n",
      "                                                                 \n",
      " dense_2 (Dense)             (None, 10)                1010      \n",
      "                                                                 \n",
      "=================================================================\n",
      "Total params: 266610 (1.02 MB)\n",
      "Trainable params: 266610 (1.02 MB)\n",
      "Non-trainable params: 0 (0.00 Byte)\n",
      "_________________________________________________________________\n"
     ]
    }
   ],
   "source": [
    "model.summary()"
   ]
  },
  {
   "cell_type": "code",
   "execution_count": 31,
   "metadata": {
    "colab": {
     "base_uri": "https://localhost:8080/"
    },
    "executionInfo": {
     "elapsed": 46002,
     "status": "ok",
     "timestamp": 1605921424011,
     "user": {
      "displayName": "Sunny Chandra",
      "photoUrl": "",
      "userId": "02736288732268026673"
     },
     "user_tz": -330
    },
    "id": "B5rKJye3JVYw",
    "jupyter": {
     "source_hidden": true
    },
    "outputId": "3f0f9360-e2d1-4840-c281-344c229d5118",
    "scrolled": true
   },
   "outputs": [
    {
     "name": "stdout",
     "output_type": "stream",
     "text": [
      "Epoch 1/10\n",
      "1719/1719 - 8s - loss: 1.2743 - accuracy: 0.6028 - val_loss: 0.8792 - val_accuracy: 0.7082 - 8s/epoch - 5ms/step\n",
      "Epoch 2/10\n",
      "1719/1719 - 7s - loss: 0.7977 - accuracy: 0.7311 - val_loss: 0.7170 - val_accuracy: 0.7644 - 7s/epoch - 4ms/step\n",
      "Epoch 3/10\n",
      "1719/1719 - 7s - loss: 0.6890 - accuracy: 0.7699 - val_loss: 0.6522 - val_accuracy: 0.7882 - 7s/epoch - 4ms/step\n",
      "Epoch 4/10\n",
      "1719/1719 - 7s - loss: 0.6304 - accuracy: 0.7910 - val_loss: 0.5979 - val_accuracy: 0.8078 - 7s/epoch - 4ms/step\n",
      "Epoch 5/10\n",
      "1719/1719 - 8s - loss: 0.5917 - accuracy: 0.8038 - val_loss: 0.5656 - val_accuracy: 0.8184 - 8s/epoch - 4ms/step\n",
      "Epoch 6/10\n",
      "1719/1719 - 8s - loss: 0.5637 - accuracy: 0.8109 - val_loss: 0.5418 - val_accuracy: 0.8222 - 8s/epoch - 5ms/step\n",
      "Epoch 7/10\n",
      "1719/1719 - 8s - loss: 0.5423 - accuracy: 0.8174 - val_loss: 0.5223 - val_accuracy: 0.8284 - 8s/epoch - 5ms/step\n",
      "Epoch 8/10\n",
      "1719/1719 - 9s - loss: 0.5257 - accuracy: 0.8219 - val_loss: 0.5149 - val_accuracy: 0.8286 - 9s/epoch - 5ms/step\n",
      "Epoch 9/10\n",
      "1719/1719 - 12s - loss: 0.5125 - accuracy: 0.8246 - val_loss: 0.4972 - val_accuracy: 0.8338 - 12s/epoch - 7ms/step\n",
      "Epoch 10/10\n",
      "1719/1719 - 10s - loss: 0.5009 - accuracy: 0.8289 - val_loss: 0.4890 - val_accuracy: 0.8382 - 10s/epoch - 6ms/step\n"
     ]
    }
   ],
   "source": [
    "history = model.fit(X_train, y_train, epochs=10,\n",
    "                    validation_data=(X_valid, y_valid), verbose=2)"
   ]
  },
  {
   "cell_type": "markdown",
   "metadata": {
    "id": "bD99onTBJVY0"
   },
   "source": [
    "# Batch Normalization"
   ]
  },
  {
   "cell_type": "markdown",
   "metadata": {
    "id": "vCPE7qdQWz-h"
   },
   "source": [
    "#### Internal Covariate Shift\n",
    "* We define Internal Covariate Shift as the change in the\n",
    "distribution of network activations due to the change in\n",
    "network parameters during training. \n",
    "\n",
    "* To improve the training, we seek to reduce the internal covariate shift. By\n",
    "fixing the distribution of the layer inputs x as the training\n",
    "progresses, we expect to improve the training speed. \n",
    "\n",
    "* It has been long known (LeCun et al., 1998b; Wiesler & Ney,\n",
    "2011) that the network training converges faster if its inputs are whitened – i.e., linearly transformed to have zero\n",
    "means and unit variances, and decorrelated. \n",
    "\n",
    "* As each layer observes the inputs produced by the layers below, it would\n",
    "be advantageous to achieve the same whitening of the inputs of each layer. \n",
    "\n",
    "* By whitening the inputs to each layer, we would take a step towards achieving the fixed distributions of inputs that would remove the ill effects of the\n",
    "internal covariate shift.\n",
    "\n",
    "reference [Batch Normalization: Accelerating Deep Network Training by Reducing Internal Covariate Shift](https://arxiv.org/pdf/1502.03167.pdf)"
   ]
  },
  {
   "cell_type": "markdown",
   "metadata": {},
   "source": [
    "## Input: \n",
    "### Values of x over a mini-batch: $B = \\{x_{1...m}\\}$\n",
    "### Learnable parameters: $\\gamma$ and $\\beta$\n",
    "\n",
    "\n",
    "## Output: \n",
    "### $\\{z^{(i)} = BN _{\\gamma, \\beta}(x^{(i)})\\}$\n",
    "\n",
    "## Algorithm:\n",
    "\n",
    "### 1. mini-batch mean: $\\mu_B = \\frac{1}{m_B} \\sum_{i=1}^{m_B} x^{(i)}$\n",
    "\n",
    "### 2. mini-batch variance: $\\sigma_B^2 = \\frac{1}{m_B} \\sum_{i=1}^{m_B} (x^{(i)} - \\mu_B)^2$\n",
    "\n",
    "### 3. normalize: $\\hat{x}^{(i)} = \\frac{x^{(i)} - \\mu_B}{\\sqrt{\\sigma_B^2 + \\epsilon}}$\n",
    "\n",
    "### 4. scale and shift: $ z^{(i)} = \\gamma \\otimes  \\hat{x}^{(i)} + \\beta \\equiv BN _{\\gamma, \\beta}(x^{(i)})\\ $ "
   ]
  },
  {
   "cell_type": "markdown",
   "metadata": {},
   "source": [
    "---\n",
    "\n",
    "## BN Approach One"
   ]
  },
  {
   "cell_type": "code",
   "execution_count": 32,
   "metadata": {
    "executionInfo": {
     "elapsed": 45999,
     "status": "ok",
     "timestamp": 1605921424012,
     "user": {
      "displayName": "Sunny Chandra",
      "photoUrl": "",
      "userId": "02736288732268026673"
     },
     "user_tz": -330
    },
    "id": "_vaZQzOIVa8H"
   },
   "outputs": [],
   "source": [
    "del model"
   ]
  },
  {
   "cell_type": "code",
   "execution_count": 33,
   "metadata": {
    "executionInfo": {
     "elapsed": 45998,
     "status": "ok",
     "timestamp": 1605921424014,
     "user": {
      "displayName": "Sunny Chandra",
      "photoUrl": "",
      "userId": "02736288732268026673"
     },
     "user_tz": -330
    },
    "id": "DSuksCFDJVY0"
   },
   "outputs": [],
   "source": [
    "LAYERS_BN = [\n",
    "    tf.keras.layers.Flatten(input_shape=[28, 28]),\n",
    "    tf.keras.layers.BatchNormalization(),\n",
    "    tf.keras.layers.Dense(300, activation=\"relu\"),\n",
    "    tf.keras.layers.BatchNormalization(),\n",
    "    tf.keras.layers.Dense(100, activation=\"relu\"),\n",
    "    tf.keras.layers.BatchNormalization(),\n",
    "    tf.keras.layers.Dense(10, activation=\"softmax\")\n",
    "]\n",
    "\n",
    "model = tf.keras.models.Sequential(LAYERS_BN)"
   ]
  },
  {
   "cell_type": "code",
   "execution_count": 34,
   "metadata": {
    "colab": {
     "base_uri": "https://localhost:8080/"
    },
    "executionInfo": {
     "elapsed": 45994,
     "status": "ok",
     "timestamp": 1605921424015,
     "user": {
      "displayName": "Sunny Chandra",
      "photoUrl": "",
      "userId": "02736288732268026673"
     },
     "user_tz": -330
    },
    "id": "l469kef_JVY0",
    "outputId": "a2a0cd70-e200-4d26-f9da-5d03ad5fadb6"
   },
   "outputs": [
    {
     "name": "stdout",
     "output_type": "stream",
     "text": [
      "Model: \"sequential_1\"\n",
      "_________________________________________________________________\n",
      " Layer (type)                Output Shape              Param #   \n",
      "=================================================================\n",
      " flatten_1 (Flatten)         (None, 784)               0         \n",
      "                                                                 \n",
      " batch_normalization (Batch  (None, 784)               3136      \n",
      " Normalization)                                                  \n",
      "                                                                 \n",
      " dense_3 (Dense)             (None, 300)               235500    \n",
      "                                                                 \n",
      " batch_normalization_1 (Bat  (None, 300)               1200      \n",
      " chNormalization)                                                \n",
      "                                                                 \n",
      " dense_4 (Dense)             (None, 100)               30100     \n",
      "                                                                 \n",
      " batch_normalization_2 (Bat  (None, 100)               400       \n",
      " chNormalization)                                                \n",
      "                                                                 \n",
      " dense_5 (Dense)             (None, 10)                1010      \n",
      "                                                                 \n",
      "=================================================================\n",
      "Total params: 271346 (1.04 MB)\n",
      "Trainable params: 268978 (1.03 MB)\n",
      "Non-trainable params: 2368 (9.25 KB)\n",
      "_________________________________________________________________\n"
     ]
    }
   ],
   "source": [
    "model.summary()"
   ]
  },
  {
   "cell_type": "code",
   "execution_count": 21,
   "metadata": {},
   "outputs": [
    {
     "data": {
      "text/plain": [
       "2368.0"
      ]
     },
     "execution_count": 21,
     "metadata": {},
     "output_type": "execute_result"
    }
   ],
   "source": [
    "784 * 4 , 300 * 4 , 100 * 4\n",
    "\n",
    "784 * 4 + 300 * 4 + 100 * 4\n",
    "\n",
    "(784 * 4 + 300 * 4 + 100 * 4)/2"
   ]
  },
  {
   "cell_type": "code",
   "execution_count": 22,
   "metadata": {},
   "outputs": [
    {
     "data": {
      "text/plain": [
       "3136"
      ]
     },
     "execution_count": 22,
     "metadata": {},
     "output_type": "execute_result"
    }
   ],
   "source": [
    "784 * 4 # mean, variance, gamma and Beta"
   ]
  },
  {
   "cell_type": "code",
   "execution_count": 23,
   "metadata": {},
   "outputs": [
    {
     "data": {
      "text/plain": [
       "1200"
      ]
     },
     "execution_count": 23,
     "metadata": {},
     "output_type": "execute_result"
    }
   ],
   "source": [
    "300 * 4"
   ]
  },
  {
   "cell_type": "code",
   "execution_count": 24,
   "metadata": {},
   "outputs": [
    {
     "data": {
      "text/plain": [
       "400"
      ]
     },
     "execution_count": 24,
     "metadata": {},
     "output_type": "execute_result"
    }
   ],
   "source": [
    "100 *4 "
   ]
  },
  {
   "cell_type": "code",
   "execution_count": 25,
   "metadata": {},
   "outputs": [
    {
     "data": {
      "text/plain": [
       "4736"
      ]
     },
     "execution_count": 25,
     "metadata": {},
     "output_type": "execute_result"
    }
   ],
   "source": [
    "3136 + 1200 + 400"
   ]
  },
  {
   "cell_type": "code",
   "execution_count": 26,
   "metadata": {},
   "outputs": [
    {
     "data": {
      "text/plain": [
       "2368.0"
      ]
     },
     "execution_count": 26,
     "metadata": {},
     "output_type": "execute_result"
    }
   ],
   "source": [
    "4736 / 2"
   ]
  },
  {
   "cell_type": "code",
   "execution_count": 27,
   "metadata": {},
   "outputs": [
    {
     "data": {
      "text/plain": [
       "268978.0"
      ]
     },
     "execution_count": 27,
     "metadata": {},
     "output_type": "execute_result"
    }
   ],
   "source": [
    "266610 + 2368.0"
   ]
  },
  {
   "cell_type": "code",
   "execution_count": 28,
   "metadata": {},
   "outputs": [
    {
     "data": {
      "text/plain": [
       "271346"
      ]
     },
     "execution_count": 28,
     "metadata": {},
     "output_type": "execute_result"
    }
   ],
   "source": [
    "266610 + 4736"
   ]
  },
  {
   "cell_type": "code",
   "execution_count": 35,
   "metadata": {
    "colab": {
     "base_uri": "https://localhost:8080/"
    },
    "executionInfo": {
     "elapsed": 45987,
     "status": "ok",
     "timestamp": 1605921424016,
     "user": {
      "displayName": "Sunny Chandra",
      "photoUrl": "",
      "userId": "02736288732268026673"
     },
     "user_tz": -330
    },
    "id": "570XDURdVrsF",
    "outputId": "2a75df69-6316-488f-9ed6-9d2816c0bb51"
   },
   "outputs": [
    {
     "name": "stdout",
     "output_type": "stream",
     "text": [
      "variable name: gamma, \n",
      "is trainable: True\n",
      "\n",
      "\n",
      "variable name: beta, \n",
      "is trainable: True\n",
      "\n",
      "\n",
      "variable name: moving_mean, \n",
      "is trainable: False\n",
      "\n",
      "\n",
      "variable name: moving_variance, \n",
      "is trainable: False\n",
      "\n",
      "\n"
     ]
    }
   ],
   "source": [
    "bn1 = model.layers[1]\n",
    "for variable in bn1.variables:\n",
    "    print(f\"variable name: {variable.name.split('/')[-1][:-2]}, \\nis trainable: {variable.trainable}\\n\\n\")"
   ]
  },
  {
   "cell_type": "code",
   "execution_count": 37,
   "metadata": {
    "executionInfo": {
     "elapsed": 45981,
     "status": "ok",
     "timestamp": 1605921424016,
     "user": {
      "displayName": "Sunny Chandra",
      "photoUrl": "",
      "userId": "02736288732268026673"
     },
     "user_tz": -330
    },
    "id": "dht-K8XzJVY0"
   },
   "outputs": [],
   "source": [
    "model.compile(loss=\"sparse_categorical_crossentropy\",\n",
    "              optimizer=tf.keras.optimizers.SGD(learning_rate=1e-3),\n",
    "              metrics=[\"accuracy\"])"
   ]
  },
  {
   "cell_type": "code",
   "execution_count": 38,
   "metadata": {
    "colab": {
     "base_uri": "https://localhost:8080/"
    },
    "executionInfo": {
     "elapsed": 102143,
     "status": "ok",
     "timestamp": 1605921480182,
     "user": {
      "displayName": "Sunny Chandra",
      "photoUrl": "",
      "userId": "02736288732268026673"
     },
     "user_tz": -330
    },
    "id": "NTm-uyUdJVY0",
    "outputId": "c78150cc-0019-4cb4-da94-eca875571e3a"
   },
   "outputs": [
    {
     "name": "stdout",
     "output_type": "stream",
     "text": [
      "Epoch 1/10\n",
      "1719/1719 [==============================] - 15s 8ms/step - loss: 0.8343 - accuracy: 0.7216 - val_loss: 0.5589 - val_accuracy: 0.8148\n",
      "Epoch 2/10\n",
      "1719/1719 [==============================] - 13s 7ms/step - loss: 0.5690 - accuracy: 0.8035 - val_loss: 0.4831 - val_accuracy: 0.8368\n",
      "Epoch 3/10\n",
      "1719/1719 [==============================] - 13s 8ms/step - loss: 0.5146 - accuracy: 0.8216 - val_loss: 0.4503 - val_accuracy: 0.8454\n",
      "Epoch 4/10\n",
      "1719/1719 [==============================] - 13s 8ms/step - loss: 0.4754 - accuracy: 0.8349 - val_loss: 0.4271 - val_accuracy: 0.8526\n",
      "Epoch 5/10\n",
      "1719/1719 [==============================] - 14s 8ms/step - loss: 0.4515 - accuracy: 0.8428 - val_loss: 0.4117 - val_accuracy: 0.8590\n",
      "Epoch 6/10\n",
      "1719/1719 [==============================] - 13s 7ms/step - loss: 0.4374 - accuracy: 0.8461 - val_loss: 0.4006 - val_accuracy: 0.8630\n",
      "Epoch 7/10\n",
      "1719/1719 [==============================] - 13s 7ms/step - loss: 0.4216 - accuracy: 0.8522 - val_loss: 0.3886 - val_accuracy: 0.8648\n",
      "Epoch 8/10\n",
      "1719/1719 [==============================] - 14s 8ms/step - loss: 0.4102 - accuracy: 0.8543 - val_loss: 0.3825 - val_accuracy: 0.8664\n",
      "Epoch 9/10\n",
      "1719/1719 [==============================] - 13s 7ms/step - loss: 0.3996 - accuracy: 0.8581 - val_loss: 0.3766 - val_accuracy: 0.8690\n",
      "Epoch 10/10\n",
      "1719/1719 [==============================] - 12s 7ms/step - loss: 0.3901 - accuracy: 0.8612 - val_loss: 0.3699 - val_accuracy: 0.8720\n"
     ]
    }
   ],
   "source": [
    "history = model.fit(X_train, y_train, epochs=10,\n",
    "                    validation_data=(X_valid, y_valid), verbose=1)"
   ]
  },
  {
   "cell_type": "code",
   "execution_count": null,
   "metadata": {},
   "outputs": [],
   "source": []
  },
  {
   "cell_type": "markdown",
   "metadata": {
    "id": "GRjNVhquJVY1"
   },
   "source": [
    "## BN Approach Two\n",
    "\n",
    "Sometimes applying BN before the activation function works better (there's a debate on this topic). Moreover, the layer before a `BatchNormalization` layer does not need to have bias terms, since the `BatchNormalization` layer some as well, it would be a waste of parameters, so you can set `use_bias=False` when creating those layers:"
   ]
  },
  {
   "cell_type": "code",
   "execution_count": 14,
   "metadata": {
    "executionInfo": {
     "elapsed": 102140,
     "status": "ok",
     "timestamp": 1605921480183,
     "user": {
      "displayName": "Sunny Chandra",
      "photoUrl": "",
      "userId": "02736288732268026673"
     },
     "user_tz": -330
    },
    "id": "5JCHlVSGY8Ik"
   },
   "outputs": [],
   "source": [
    "del model"
   ]
  },
  {
   "cell_type": "code",
   "execution_count": 15,
   "metadata": {
    "executionInfo": {
     "elapsed": 102138,
     "status": "ok",
     "timestamp": 1605921480184,
     "user": {
      "displayName": "Sunny Chandra",
      "photoUrl": "",
      "userId": "02736288732268026673"
     },
     "user_tz": -330
    },
    "id": "fki0W4qwJVY1"
   },
   "outputs": [],
   "source": [
    "LAYERS_BN_BIAS_FALSE = [\n",
    "    tf.keras.layers.Flatten(input_shape=[28, 28]),\n",
    "    tf.keras.layers.BatchNormalization(),\n",
    "    tf.keras.layers.Dense(300, use_bias=False),\n",
    "    tf.keras.layers.BatchNormalization(),\n",
    "    tf.keras.layers.Activation(\"relu\"),\n",
    "    tf.keras.layers.Dense(100, use_bias=False),\n",
    "    tf.keras.layers.BatchNormalization(),\n",
    "    tf.keras.layers.Activation(\"relu\"),\n",
    "    tf.keras.layers.Dense(10, activation=\"softmax\")\n",
    "]\n",
    "\n",
    "model = tf.keras.models.Sequential(LAYERS_BN_BIAS_FALSE)"
   ]
  },
  {
   "cell_type": "code",
   "execution_count": 16,
   "metadata": {
    "executionInfo": {
     "elapsed": 102135,
     "status": "ok",
     "timestamp": 1605921480185,
     "user": {
      "displayName": "Sunny Chandra",
      "photoUrl": "",
      "userId": "02736288732268026673"
     },
     "user_tz": -330
    },
    "id": "tNbmgUjEJVY1"
   },
   "outputs": [],
   "source": [
    "model.compile(loss=\"sparse_categorical_crossentropy\",\n",
    "              optimizer=tf.keras.optimizers.SGD(lr=1e-3),\n",
    "              metrics=[\"accuracy\"])"
   ]
  },
  {
   "cell_type": "code",
   "execution_count": 17,
   "metadata": {
    "colab": {
     "base_uri": "https://localhost:8080/"
    },
    "executionInfo": {
     "elapsed": 161064,
     "status": "ok",
     "timestamp": 1605921539118,
     "user": {
      "displayName": "Sunny Chandra",
      "photoUrl": "",
      "userId": "02736288732268026673"
     },
     "user_tz": -330
    },
    "id": "IkDJQ3QGJVY1",
    "outputId": "6aac2221-0e9a-472e-8206-e1539d4cfb37",
    "scrolled": true
   },
   "outputs": [
    {
     "name": "stdout",
     "output_type": "stream",
     "text": [
      "Epoch 1/10\n",
      "1719/1719 [==============================] - 3s 2ms/step - loss: 1.0346 - accuracy: 0.6739 - val_loss: 0.6680 - val_accuracy: 0.7886\n",
      "Epoch 2/10\n",
      "1719/1719 [==============================] - 3s 2ms/step - loss: 0.6757 - accuracy: 0.7819 - val_loss: 0.5537 - val_accuracy: 0.8212\n",
      "Epoch 3/10\n",
      "1719/1719 [==============================] - 3s 2ms/step - loss: 0.5961 - accuracy: 0.8021 - val_loss: 0.4996 - val_accuracy: 0.8352\n",
      "Epoch 4/10\n",
      "1719/1719 [==============================] - 3s 2ms/step - loss: 0.5456 - accuracy: 0.8176 - val_loss: 0.4655 - val_accuracy: 0.8460\n",
      "Epoch 5/10\n",
      "1719/1719 [==============================] - 3s 2ms/step - loss: 0.5140 - accuracy: 0.8249 - val_loss: 0.4419 - val_accuracy: 0.8508\n",
      "Epoch 6/10\n",
      "1719/1719 [==============================] - 3s 2ms/step - loss: 0.4915 - accuracy: 0.8309 - val_loss: 0.4238 - val_accuracy: 0.8536\n",
      "Epoch 7/10\n",
      "1719/1719 [==============================] - 3s 2ms/step - loss: 0.4741 - accuracy: 0.8376 - val_loss: 0.4103 - val_accuracy: 0.8576\n",
      "Epoch 8/10\n",
      "1719/1719 [==============================] - 3s 2ms/step - loss: 0.4603 - accuracy: 0.8408 - val_loss: 0.3994 - val_accuracy: 0.8622\n",
      "Epoch 9/10\n",
      "1719/1719 [==============================] - 3s 2ms/step - loss: 0.4466 - accuracy: 0.8459 - val_loss: 0.3911 - val_accuracy: 0.8636\n",
      "Epoch 10/10\n",
      "1719/1719 [==============================] - 3s 2ms/step - loss: 0.4337 - accuracy: 0.8498 - val_loss: 0.3828 - val_accuracy: 0.8680\n"
     ]
    }
   ],
   "source": [
    "history = model.fit(X_train, y_train, epochs=10,\n",
    "                    validation_data=(X_valid, y_valid))"
   ]
  },
  {
   "cell_type": "code",
   "execution_count": null,
   "metadata": {},
   "outputs": [],
   "source": []
  }
 ],
 "metadata": {
  "accelerator": "GPU",
  "colab": {
   "authorship_tag": "ABX9TyORmSE1d3NdH4U2cIMNptAa",
   "collapsed_sections": [],
   "name": "t01__INIT_BN.ipynb",
   "provenance": []
  },
  "kernelspec": {
   "display_name": "Python 3 (ipykernel)",
   "language": "python",
   "name": "python3"
  },
  "language_info": {
   "codemirror_mode": {
    "name": "ipython",
    "version": 3
   },
   "file_extension": ".py",
   "mimetype": "text/x-python",
   "name": "python",
   "nbconvert_exporter": "python",
   "pygments_lexer": "ipython3",
   "version": "3.10.9"
  }
 },
 "nbformat": 4,
 "nbformat_minor": 4
}
