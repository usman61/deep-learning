{
  "nbformat": 4,
  "nbformat_minor": 0,
  "metadata": {
    "colab": {
      "provenance": [],
      "gpuType": "T4",
      "mount_file_id": "1uSJ5wPEIB9SnMBHZcw-zggO1iiRhhVH8",
      "authorship_tag": "ABX9TyOpv8uUcKuf0CtLoqbNpAru",
      "include_colab_link": true
    },
    "kernelspec": {
      "name": "python3",
      "display_name": "Python 3"
    },
    "language_info": {
      "name": "python"
    },
    "accelerator": "GPU"
  },
  "cells": [
    {
      "cell_type": "markdown",
      "metadata": {
        "id": "view-in-github",
        "colab_type": "text"
      },
      "source": [
        "<a href=\"https://colab.research.google.com/github/usman61/deep-learning/blob/main/Perceptron.ipynb\" target=\"_parent\"><img src=\"https://colab.research.google.com/assets/colab-badge.svg\" alt=\"Open In Colab\"/></a>"
      ]
    },
    {
      "cell_type": "code",
      "execution_count": null,
      "metadata": {
        "id": "NngeoQHbN9rD"
      },
      "outputs": [],
      "source": [
        "import numpy as np\n",
        "import matplotlib.pyplot as plt\n",
        "import joblib\n",
        "import pandas as pd"
      ]
    },
    {
      "cell_type": "code",
      "source": [
        "class Perceptron:\n",
        "  def __init__(self,eta,epochs,activationFunction):\n",
        "    self.weights = np.random.randn(3)*1e-4\n",
        "    self.eta = eta\n",
        "    self.epochs = epochs\n",
        "    self.activationFunction = activationFunction\n",
        "  def fit(self,X,y):\n",
        "    self.X = X\n",
        "    self.y = y\n",
        "    X_with_bias = np.c_[self.X,-np.ones(len(self.X),1)]  #concatenation\n",
        "\n",
        "    for epoch in range(self.epochs):\n",
        "      y_hat = self.activationFunction(X_with_bias,self.weights)\n",
        "      error = self.y - y_hat\n",
        "      self.weights = self.weights + self.eta* np.dot(error.T,X_with_bias)\n",
        "\n",
        "  def predict(self,X):\n",
        "    X_with_bias = np.c_[self.X,-np.ones(len(X),1)]  #concatenation\n",
        "    return self.activationFunction(X_with_bias,self.weights)"
      ],
      "metadata": {
        "id": "J3lEa_XwP1Je"
      },
      "execution_count": null,
      "outputs": []
    },
    {
      "cell_type": "code",
      "source": [
        "activationFunction = lambda inputs, weights: np.where(np.dot(inputs, weights) > 0 , 1, 0)"
      ],
      "metadata": {
        "colab": {
          "base_uri": "https://localhost:8080/",
          "height": 165
        },
        "id": "ghxsAUsxOUEq",
        "outputId": "b126a0cb-e23d-47e4-970c-b0092a8093e3"
      },
      "execution_count": null,
      "outputs": [
        {
          "output_type": "error",
          "ename": "NameError",
          "evalue": "ignored",
          "traceback": [
            "\u001b[0;31m---------------------------------------------------------------------------\u001b[0m",
            "\u001b[0;31mNameError\u001b[0m                                 Traceback (most recent call last)",
            "\u001b[0;32m<ipython-input-7-eb49e16d9712>\u001b[0m in \u001b[0;36m<cell line: 1>\u001b[0;34m()\u001b[0m\n\u001b[0;32m----> 1\u001b[0;31m \u001b[0mnp\u001b[0m\u001b[0;34m.\u001b[0m\u001b[0mrandom\u001b[0m\u001b[0;34m.\u001b[0m\u001b[0mrandn\u001b[0m\u001b[0;34m(\u001b[0m\u001b[0;36m5\u001b[0m\u001b[0;34m)\u001b[0m\u001b[0;34m*\u001b[0m\u001b[0me\u001b[0m\u001b[0;34m-\u001b[0m\u001b[0;36m4\u001b[0m\u001b[0;34m\u001b[0m\u001b[0;34m\u001b[0m\u001b[0m\n\u001b[0m",
            "\u001b[0;31mNameError\u001b[0m: name 'e' is not defined"
          ]
        }
      ]
    },
    {
      "cell_type": "code",
      "source": [
        "# adding few more code in co lab"
      ],
      "metadata": {
        "id": "dajZoFQOY42X"
      },
      "execution_count": null,
      "outputs": []
    },
    {
      "cell_type": "code",
      "source": [
        "# alternatives to the above lamba function\n",
        "def activationFunction(inputs, weights):\n",
        "  z = np.dot(inputs, weights)\n",
        "  y_hat = np.where(z > 0, 1, 0)\n",
        "  return y_hat\n",
        "\n",
        "def activationFunction(inputs, weights):\n",
        "  z = np.dot(inputs, weights)\n",
        "  if z > 0:\n",
        "    y_hat = 1\n",
        "  else:\n",
        "    y_hat = 0\n",
        "  return y_hat"
      ],
      "metadata": {
        "id": "yy8s04u9klBS"
      },
      "execution_count": null,
      "outputs": []
    },
    {
      "cell_type": "markdown",
      "source": [],
      "metadata": {
        "id": "re1erkAHkofg"
      }
    },
    {
      "cell_type": "markdown",
      "source": [],
      "metadata": {
        "id": "InDUnWJIknKG"
      }
    },
    {
      "cell_type": "code",
      "source": [],
      "metadata": {
        "id": "8o0b1wVPkkTl"
      },
      "execution_count": null,
      "outputs": []
    },
    {
      "cell_type": "code",
      "source": [],
      "metadata": {
        "id": "moel5160ioGG"
      },
      "execution_count": null,
      "outputs": []
    }
  ]
}