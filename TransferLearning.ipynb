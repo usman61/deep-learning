{
 "cells": [
  {
   "cell_type": "markdown",
   "metadata": {},
   "source": [
    "# Transfer learning\n",
    "Firstly training the model to classify the numerical digits ranging from (0 - 9)\n",
    "then would be using the same pretrained model using the concept of Transfer Learning to classify even and odd digits."
   ]
  },
  {
   "cell_type": "code",
   "execution_count": 1,
   "metadata": {
    "executionInfo": {
     "elapsed": 2224,
     "status": "ok",
     "timestamp": 1622963992277,
     "user": {
      "displayName": "colab0 ineuron",
      "photoUrl": "",
      "userId": "16851312232179065356"
     },
     "user_tz": -330
    },
    "id": "cBN6PkuRJZ8U"
   },
   "outputs": [
    {
     "name": "stderr",
     "output_type": "stream",
     "text": [
      "2023-07-22 16:39:06.727314: I tensorflow/tsl/cuda/cudart_stub.cc:28] Could not find cuda drivers on your machine, GPU will not be used.\n",
      "2023-07-22 16:39:06.819443: I tensorflow/tsl/cuda/cudart_stub.cc:28] Could not find cuda drivers on your machine, GPU will not be used.\n",
      "2023-07-22 16:39:06.820888: I tensorflow/core/platform/cpu_feature_guard.cc:182] This TensorFlow binary is optimized to use available CPU instructions in performance-critical operations.\n",
      "To enable the following instructions: AVX2 FMA, in other operations, rebuild TensorFlow with the appropriate compiler flags.\n",
      "2023-07-22 16:39:08.635490: W tensorflow/compiler/tf2tensorrt/utils/py_utils.cc:38] TF-TRT Warning: Could not find TensorRT\n"
     ]
    }
   ],
   "source": [
    "import os\n",
    "import tensorflow as tf\n",
    "import numpy as np\n",
    "import matplotlib.pyplot as plt\n",
    "import seaborn as sns"
   ]
  },
  {
   "cell_type": "code",
   "execution_count": 2,
   "metadata": {
    "colab": {
     "base_uri": "https://localhost:8080/"
    },
    "executionInfo": {
     "elapsed": 1336,
     "status": "ok",
     "timestamp": 1622964003975,
     "user": {
      "displayName": "colab0 ineuron",
      "photoUrl": "",
      "userId": "16851312232179065356"
     },
     "user_tz": -330
    },
    "id": "0sp7OPvPMSvA",
    "outputId": "c25297b1-0ded-4563-db5a-03eabbd0bf16"
   },
   "outputs": [],
   "source": [
    "(X_train_full, y_train_full), (X_test, y_test) = tf.keras.datasets.mnist.load_data()\n",
    "X_train_full = X_train_full / 255.0\n",
    "X_test = X_test / 255.0\n",
    "X_valid, X_train = X_train_full[:5000], X_train_full[5000:]\n",
    "y_valid, y_train = y_train_full[:5000], y_train_full[5000:]"
   ]
  },
  {
   "cell_type": "code",
   "execution_count": 5,
   "metadata": {
    "executionInfo": {
     "elapsed": 3744,
     "status": "ok",
     "timestamp": 1622964074792,
     "user": {
      "displayName": "colab0 ineuron",
      "photoUrl": "",
      "userId": "16851312232179065356"
     },
     "user_tz": -330
    },
    "id": "M1_QZmzsMVzh"
   },
   "outputs": [],
   "source": [
    "tf.random.set_seed(42)\n",
    "np.random.seed(42)\n",
    "\n",
    "LAYERS = [ tf.keras.layers.Flatten(input_shape=[28, 28]),\n",
    "    tf.keras.layers.Dense(300, kernel_initializer=\"he_normal\"),\n",
    "    tf.keras.layers.LeakyReLU(),\n",
    "    tf.keras.layers.Dense(100, kernel_initializer=\"he_normal\"),\n",
    "    tf.keras.layers.LeakyReLU(),\n",
    "    tf.keras.layers.Dense(10, activation=\"softmax\")]\n",
    "\n",
    "\n",
    "model = tf.keras.models.Sequential(LAYERS)"
   ]
  },
  {
   "cell_type": "code",
   "execution_count": 6,
   "metadata": {
    "executionInfo": {
     "elapsed": 397,
     "status": "ok",
     "timestamp": 1622964095691,
     "user": {
      "displayName": "colab0 ineuron",
      "photoUrl": "",
      "userId": "16851312232179065356"
     },
     "user_tz": -330
    },
    "id": "52m7m4t7MmgW"
   },
   "outputs": [],
   "source": [
    "model.compile(loss=\"sparse_categorical_crossentropy\",\n",
    "              optimizer=tf.keras.optimizers.SGD(learning_rate=1e-3),\n",
    "              metrics=[\"accuracy\"])"
   ]
  },
  {
   "cell_type": "code",
   "execution_count": 7,
   "metadata": {
    "colab": {
     "base_uri": "https://localhost:8080/"
    },
    "executionInfo": {
     "elapsed": 454,
     "status": "ok",
     "timestamp": 1622964109993,
     "user": {
      "displayName": "colab0 ineuron",
      "photoUrl": "",
      "userId": "16851312232179065356"
     },
     "user_tz": -330
    },
    "id": "eUNuDFB0MpvB",
    "outputId": "4284c251-1e67-4278-8ad4-f91808aaf17d"
   },
   "outputs": [
    {
     "name": "stdout",
     "output_type": "stream",
     "text": [
      "Model: \"sequential\"\n",
      "_________________________________________________________________\n",
      " Layer (type)                Output Shape              Param #   \n",
      "=================================================================\n",
      " flatten (Flatten)           (None, 784)               0         \n",
      "                                                                 \n",
      " dense (Dense)               (None, 300)               235500    \n",
      "                                                                 \n",
      " leaky_re_lu (LeakyReLU)     (None, 300)               0         \n",
      "                                                                 \n",
      " dense_1 (Dense)             (None, 100)               30100     \n",
      "                                                                 \n",
      " leaky_re_lu_1 (LeakyReLU)   (None, 100)               0         \n",
      "                                                                 \n",
      " dense_2 (Dense)             (None, 10)                1010      \n",
      "                                                                 \n",
      "=================================================================\n",
      "Total params: 266610 (1.02 MB)\n",
      "Trainable params: 266610 (1.02 MB)\n",
      "Non-trainable params: 0 (0.00 Byte)\n",
      "_________________________________________________________________\n"
     ]
    }
   ],
   "source": [
    "model.summary()"
   ]
  },
  {
   "cell_type": "code",
   "execution_count": 8,
   "metadata": {
    "colab": {
     "base_uri": "https://localhost:8080/"
    },
    "executionInfo": {
     "elapsed": 25521,
     "status": "ok",
     "timestamp": 1622964171443,
     "user": {
      "displayName": "colab0 ineuron",
      "photoUrl": "",
      "userId": "16851312232179065356"
     },
     "user_tz": -330
    },
    "id": "oIqzAVXgMv56",
    "outputId": "364e1bec-8fb6-4b6d-8391-dbceb68e1fde"
   },
   "outputs": [
    {
     "name": "stderr",
     "output_type": "stream",
     "text": [
      "2023-07-22 16:41:32.113136: W tensorflow/tsl/framework/cpu_allocator_impl.cc:83] Allocation of 172480000 exceeds 10% of free system memory.\n"
     ]
    },
    {
     "name": "stdout",
     "output_type": "stream",
     "text": [
      "Epoch 1/10\n",
      "1719/1719 [==============================] - 11s 6ms/step - loss: 1.5228 - accuracy: 0.6067 - val_loss: 0.9294 - val_accuracy: 0.7962\n",
      "Epoch 2/10\n",
      "1719/1719 [==============================] - 10s 6ms/step - loss: 0.7401 - accuracy: 0.8244 - val_loss: 0.5874 - val_accuracy: 0.8562\n",
      "Epoch 3/10\n",
      "1719/1719 [==============================] - 10s 6ms/step - loss: 0.5433 - accuracy: 0.8585 - val_loss: 0.4723 - val_accuracy: 0.8782\n",
      "Epoch 4/10\n",
      "1719/1719 [==============================] - 10s 6ms/step - loss: 0.4618 - accuracy: 0.8751 - val_loss: 0.4134 - val_accuracy: 0.8892\n",
      "Epoch 5/10\n",
      "1719/1719 [==============================] - 10s 6ms/step - loss: 0.4162 - accuracy: 0.8853 - val_loss: 0.3777 - val_accuracy: 0.8988\n",
      "Epoch 6/10\n",
      "1719/1719 [==============================] - 11s 6ms/step - loss: 0.3865 - accuracy: 0.8921 - val_loss: 0.3534 - val_accuracy: 0.9034\n",
      "Epoch 7/10\n",
      "1719/1719 [==============================] - 10s 6ms/step - loss: 0.3651 - accuracy: 0.8977 - val_loss: 0.3353 - val_accuracy: 0.9086\n",
      "Epoch 8/10\n",
      "1719/1719 [==============================] - 10s 6ms/step - loss: 0.3487 - accuracy: 0.9023 - val_loss: 0.3209 - val_accuracy: 0.9112\n",
      "Epoch 9/10\n",
      "1719/1719 [==============================] - 10s 6ms/step - loss: 0.3354 - accuracy: 0.9061 - val_loss: 0.3106 - val_accuracy: 0.9154\n",
      "Epoch 10/10\n",
      "1719/1719 [==============================] - 10s 6ms/step - loss: 0.3244 - accuracy: 0.9087 - val_loss: 0.3002 - val_accuracy: 0.9166\n"
     ]
    }
   ],
   "source": [
    "history = model.fit(X_train, y_train, epochs=10,\n",
    "                    validation_data=(X_valid, y_valid), verbose=1)"
   ]
  },
  {
   "cell_type": "code",
   "execution_count": 9,
   "metadata": {
    "executionInfo": {
     "elapsed": 394,
     "status": "ok",
     "timestamp": 1622964279936,
     "user": {
      "displayName": "colab0 ineuron",
      "photoUrl": "",
      "userId": "16851312232179065356"
     },
     "user_tz": -330
    },
    "id": "7kP_8N5tM4yk",
    "scrolled": true
   },
   "outputs": [
    {
     "name": "stderr",
     "output_type": "stream",
     "text": [
      "/home/usman/anaconda3/lib/python3.10/site-packages/keras/src/engine/training.py:3000: UserWarning: You are saving your model as an HDF5 file via `model.save()`. This file format is considered legacy. We recommend using instead the native Keras format, e.g. `model.save('my_model.keras')`.\n",
      "  saving_api.save_model(\n"
     ]
    }
   ],
   "source": [
    "model.save(\"pretrained_mnist_model.h5\")"
   ]
  },
  {
   "cell_type": "markdown",
   "metadata": {
    "id": "kaYSbrAFNQ-z"
   },
   "source": [
    "### Loading the model trained above on mnist dataset to identify the hand written numerical digits."
   ]
  },
  {
   "cell_type": "code",
   "execution_count": 11,
   "metadata": {
    "executionInfo": {
     "elapsed": 1032,
     "status": "ok",
     "timestamp": 1622964323850,
     "user": {
      "displayName": "colab0 ineuron",
      "photoUrl": "",
      "userId": "16851312232179065356"
     },
     "user_tz": -330
    },
    "id": "QsKBjQyyNIdS"
   },
   "outputs": [],
   "source": [
    "pretrained_mnist_model = tf.keras.models.load_model(\"pretrained_mnist_model.h5\")"
   ]
  },
  {
   "cell_type": "code",
   "execution_count": 12,
   "metadata": {
    "colab": {
     "base_uri": "https://localhost:8080/"
    },
    "executionInfo": {
     "elapsed": 516,
     "status": "ok",
     "timestamp": 1622964344687,
     "user": {
      "displayName": "colab0 ineuron",
      "photoUrl": "",
      "userId": "16851312232179065356"
     },
     "user_tz": -330
    },
    "id": "E3adGZsmNj4z",
    "outputId": "25eb1af0-f8b1-416c-c993-a724a1e06b88"
   },
   "outputs": [
    {
     "name": "stdout",
     "output_type": "stream",
     "text": [
      "Model: \"sequential\"\n",
      "_________________________________________________________________\n",
      " Layer (type)                Output Shape              Param #   \n",
      "=================================================================\n",
      " flatten (Flatten)           (None, 784)               0         \n",
      "                                                                 \n",
      " dense (Dense)               (None, 300)               235500    \n",
      "                                                                 \n",
      " leaky_re_lu (LeakyReLU)     (None, 300)               0         \n",
      "                                                                 \n",
      " dense_1 (Dense)             (None, 100)               30100     \n",
      "                                                                 \n",
      " leaky_re_lu_1 (LeakyReLU)   (None, 100)               0         \n",
      "                                                                 \n",
      " dense_2 (Dense)             (None, 10)                1010      \n",
      "                                                                 \n",
      "=================================================================\n",
      "Total params: 266610 (1.02 MB)\n",
      "Trainable params: 266610 (1.02 MB)\n",
      "Non-trainable params: 0 (0.00 Byte)\n",
      "_________________________________________________________________\n"
     ]
    }
   ],
   "source": [
    "pretrained_mnist_model.summary()"
   ]
  },
  {
   "cell_type": "code",
   "execution_count": 13,
   "metadata": {
    "colab": {
     "base_uri": "https://localhost:8080/"
    },
    "executionInfo": {
     "elapsed": 522,
     "status": "ok",
     "timestamp": 1622964439966,
     "user": {
      "displayName": "colab0 ineuron",
      "photoUrl": "",
      "userId": "16851312232179065356"
     },
     "user_tz": -330
    },
    "id": "5l_yRn0aNpMK",
    "outputId": "74998c6b-f40f-422b-8068-c3db47051ec1"
   },
   "outputs": [
    {
     "name": "stdout",
     "output_type": "stream",
     "text": [
      "flatten: True\n",
      "dense: True\n",
      "leaky_re_lu: True\n",
      "dense_1: True\n",
      "leaky_re_lu_1: True\n",
      "dense_2: True\n"
     ]
    }
   ],
   "source": [
    "for layer in pretrained_mnist_model.layers:\n",
    "  print(f\"{layer.name}: {layer.trainable}\")"
   ]
  },
  {
   "cell_type": "markdown",
   "metadata": {},
   "source": [
    "### Freezing all the layers of pretrained model except the last one to fine tune"
   ]
  },
  {
   "cell_type": "code",
   "execution_count": 14,
   "metadata": {
    "colab": {
     "base_uri": "https://localhost:8080/"
    },
    "executionInfo": {
     "elapsed": 383,
     "status": "ok",
     "timestamp": 1622964516328,
     "user": {
      "displayName": "colab0 ineuron",
      "photoUrl": "",
      "userId": "16851312232179065356"
     },
     "user_tz": -330
    },
    "id": "SoKsJVq6Nyot",
    "outputId": "d6d148f7-887d-4c26-ed0d-4252ab2f085a"
   },
   "outputs": [
    {
     "name": "stdout",
     "output_type": "stream",
     "text": [
      "flatten: False\n",
      "dense: False\n",
      "leaky_re_lu: False\n",
      "dense_1: False\n",
      "leaky_re_lu_1: False\n"
     ]
    }
   ],
   "source": [
    "for layer in pretrained_mnist_model.layers[:-1]:\n",
    "  layer.trainable = False\n",
    "  print(f\"{layer.name}: {layer.trainable}\")"
   ]
  },
  {
   "cell_type": "code",
   "execution_count": 15,
   "metadata": {
    "colab": {
     "base_uri": "https://localhost:8080/"
    },
    "executionInfo": {
     "elapsed": 387,
     "status": "ok",
     "timestamp": 1622964525179,
     "user": {
      "displayName": "colab0 ineuron",
      "photoUrl": "",
      "userId": "16851312232179065356"
     },
     "user_tz": -330
    },
    "id": "siWdRqc-ONP_",
    "outputId": "a4daaa9f-bb1a-42a3-b6f0-ef4a5ea7dc91"
   },
   "outputs": [
    {
     "name": "stdout",
     "output_type": "stream",
     "text": [
      "flatten: False\n",
      "dense: False\n",
      "leaky_re_lu: False\n",
      "dense_1: False\n",
      "leaky_re_lu_1: False\n",
      "dense_2: True\n"
     ]
    }
   ],
   "source": [
    "for layer in pretrained_mnist_model.layers:\n",
    "  print(f\"{layer.name}: {layer.trainable}\")"
   ]
  },
  {
   "cell_type": "code",
   "execution_count": 16,
   "metadata": {
    "executionInfo": {
     "elapsed": 530,
     "status": "ok",
     "timestamp": 1622964725629,
     "user": {
      "displayName": "colab0 ineuron",
      "photoUrl": "",
      "userId": "16851312232179065356"
     },
     "user_tz": -330
    },
    "id": "I_tps0VSOVSW"
   },
   "outputs": [],
   "source": [
    "lower_pretrained_layers = pretrained_mnist_model.layers[:-1]\n",
    "\n",
    "new_model = tf.keras.models.Sequential(lower_pretrained_layers)\n",
    "new_model.add(\n",
    "    tf.keras.layers.Dense(2, activation=\"softmax\")\n",
    ")"
   ]
  },
  {
   "cell_type": "code",
   "execution_count": 17,
   "metadata": {
    "colab": {
     "base_uri": "https://localhost:8080/"
    },
    "executionInfo": {
     "elapsed": 402,
     "status": "ok",
     "timestamp": 1622964737699,
     "user": {
      "displayName": "colab0 ineuron",
      "photoUrl": "",
      "userId": "16851312232179065356"
     },
     "user_tz": -330
    },
    "id": "w0BSHx0YPGMF",
    "outputId": "a3f9f60e-5198-46ab-d98d-1447ee837bc7"
   },
   "outputs": [
    {
     "name": "stdout",
     "output_type": "stream",
     "text": [
      "Model: \"sequential_1\"\n",
      "_________________________________________________________________\n",
      " Layer (type)                Output Shape              Param #   \n",
      "=================================================================\n",
      " flatten (Flatten)           (None, 784)               0         \n",
      "                                                                 \n",
      " dense (Dense)               (None, 300)               235500    \n",
      "                                                                 \n",
      " leaky_re_lu (LeakyReLU)     (None, 300)               0         \n",
      "                                                                 \n",
      " dense_1 (Dense)             (None, 100)               30100     \n",
      "                                                                 \n",
      " leaky_re_lu_1 (LeakyReLU)   (None, 100)               0         \n",
      "                                                                 \n",
      " dense_3 (Dense)             (None, 2)                 202       \n",
      "                                                                 \n",
      "=================================================================\n",
      "Total params: 265802 (1.01 MB)\n",
      "Trainable params: 202 (808.00 Byte)\n",
      "Non-trainable params: 265600 (1.01 MB)\n",
      "_________________________________________________________________\n"
     ]
    }
   ],
   "source": [
    "new_model.summary()"
   ]
  },
  {
   "cell_type": "code",
   "execution_count": 18,
   "metadata": {
    "colab": {
     "base_uri": "https://localhost:8080/"
    },
    "executionInfo": {
     "elapsed": 414,
     "status": "ok",
     "timestamp": 1622965413862,
     "user": {
      "displayName": "colab0 ineuron",
      "photoUrl": "",
      "userId": "16851312232179065356"
     },
     "user_tz": -330
    },
    "id": "QQMy1-6bQppl",
    "outputId": "16c2acd7-6629-48a2-e1c4-992568b398b3"
   },
   "outputs": [
    {
     "data": {
      "text/plain": [
       "array([0, 1, 2, 3, 4, 5, 6, 7, 8, 9], dtype=uint8)"
      ]
     },
     "execution_count": 18,
     "metadata": {},
     "output_type": "execute_result"
    }
   ],
   "source": [
    "np.unique(y_train)"
   ]
  },
  {
   "cell_type": "code",
   "execution_count": 21,
   "metadata": {
    "executionInfo": {
     "elapsed": 384,
     "status": "ok",
     "timestamp": 1622965858053,
     "user": {
      "displayName": "colab0 ineuron",
      "photoUrl": "",
      "userId": "16851312232179065356"
     },
     "user_tz": -330
    },
    "id": "2-KMG_MVSwwQ"
   },
   "outputs": [],
   "source": [
    "def update_even_odd_labels(labels):\n",
    "  for idx, label in enumerate(labels):\n",
    "    labels[idx] = np.where(label % 2 == 0, 1, 0)\n",
    "  return labels"
   ]
  },
  {
   "cell_type": "code",
   "execution_count": 22,
   "metadata": {
    "colab": {
     "base_uri": "https://localhost:8080/"
    },
    "executionInfo": {
     "elapsed": 388,
     "status": "ok",
     "timestamp": 1622965968569,
     "user": {
      "displayName": "colab0 ineuron",
      "photoUrl": "",
      "userId": "16851312232179065356"
     },
     "user_tz": -330
    },
    "id": "B2oWCodiTljV",
    "outputId": "b009e144-6462-4744-83dd-08ea41621bba"
   },
   "outputs": [
    {
     "name": "stdout",
     "output_type": "stream",
     "text": [
      "0 a\n",
      "1 b\n",
      "2 c\n"
     ]
    }
   ],
   "source": [
    "# basic example to understand enumerate\n",
    "alpha = [\"a\", \"b\", \"c\"]\n",
    "\n",
    "for idx, val in enumerate(alpha):\n",
    "  print(idx, val)"
   ]
  },
  {
   "cell_type": "code",
   "execution_count": 23,
   "metadata": {
    "executionInfo": {
     "elapsed": 2,
     "status": "ok",
     "timestamp": 1622965859529,
     "user": {
      "displayName": "colab0 ineuron",
      "photoUrl": "",
      "userId": "16851312232179065356"
     },
     "user_tz": -330
    },
    "id": "k3sKFryPTDkq"
   },
   "outputs": [],
   "source": [
    "y_train_bin, y_test_bin, y_valid_bin = update_even_odd_labels([y_train, y_test, y_valid])"
   ]
  },
  {
   "cell_type": "code",
   "execution_count": 24,
   "metadata": {
    "colab": {
     "base_uri": "https://localhost:8080/"
    },
    "executionInfo": {
     "elapsed": 538,
     "status": "ok",
     "timestamp": 1622965885719,
     "user": {
      "displayName": "colab0 ineuron",
      "photoUrl": "",
      "userId": "16851312232179065356"
     },
     "user_tz": -330
    },
    "id": "3E0n1r3JTbFs",
    "outputId": "a4a07e6e-34c3-467b-e346-e187e01c472b"
   },
   "outputs": [
    {
     "data": {
      "text/plain": [
       "array([0, 1])"
      ]
     },
     "execution_count": 24,
     "metadata": {},
     "output_type": "execute_result"
    }
   ],
   "source": [
    "np.unique(y_valid_bin)"
   ]
  },
  {
   "cell_type": "code",
   "execution_count": 25,
   "metadata": {
    "colab": {
     "base_uri": "https://localhost:8080/"
    },
    "executionInfo": {
     "elapsed": 393,
     "status": "ok",
     "timestamp": 1622966115051,
     "user": {
      "displayName": "colab0 ineuron",
      "photoUrl": "",
      "userId": "16851312232179065356"
     },
     "user_tz": -330
    },
    "id": "5iapcnTzUVxE",
    "outputId": "c9ed9d3a-1e80-45e7-8ae9-aaf4c93322e0"
   },
   "outputs": [],
   "source": [
    "new_model.compile(loss=\"sparse_categorical_crossentropy\",\n",
    "              optimizer=tf.keras.optimizers.SGD(learning_rate=1e-3),\n",
    "              metrics=[\"accuracy\"])"
   ]
  },
  {
   "cell_type": "code",
   "execution_count": 26,
   "metadata": {
    "colab": {
     "base_uri": "https://localhost:8080/"
    },
    "executionInfo": {
     "elapsed": 41622,
     "status": "ok",
     "timestamp": 1622966159183,
     "user": {
      "displayName": "colab0 ineuron",
      "photoUrl": "",
      "userId": "16851312232179065356"
     },
     "user_tz": -330
    },
    "id": "YYnZRbOFTfId",
    "outputId": "48d79bd4-47ec-4cd1-e9da-a70aca002be7"
   },
   "outputs": [
    {
     "name": "stdout",
     "output_type": "stream",
     "text": [
      "Epoch 1/10\n"
     ]
    },
    {
     "name": "stderr",
     "output_type": "stream",
     "text": [
      "2023-07-22 16:52:40.993442: W tensorflow/tsl/framework/cpu_allocator_impl.cc:83] Allocation of 172480000 exceeds 10% of free system memory.\n"
     ]
    },
    {
     "name": "stdout",
     "output_type": "stream",
     "text": [
      "1719/1719 [==============================] - 8s 4ms/step - loss: 0.4420 - accuracy: 0.7939 - val_loss: 0.3333 - val_accuracy: 0.8604\n",
      "Epoch 2/10\n",
      "1719/1719 [==============================] - 8s 4ms/step - loss: 0.3421 - accuracy: 0.8547 - val_loss: 0.3045 - val_accuracy: 0.8774\n",
      "Epoch 3/10\n",
      "1719/1719 [==============================] - 8s 4ms/step - loss: 0.3222 - accuracy: 0.8643 - val_loss: 0.2905 - val_accuracy: 0.8824\n",
      "Epoch 4/10\n",
      "1719/1719 [==============================] - 7s 4ms/step - loss: 0.3111 - accuracy: 0.8707 - val_loss: 0.2820 - val_accuracy: 0.8856\n",
      "Epoch 5/10\n",
      "1719/1719 [==============================] - 7s 4ms/step - loss: 0.3034 - accuracy: 0.8742 - val_loss: 0.2757 - val_accuracy: 0.8882\n",
      "Epoch 6/10\n",
      "1719/1719 [==============================] - 7s 4ms/step - loss: 0.2975 - accuracy: 0.8772 - val_loss: 0.2706 - val_accuracy: 0.8912\n",
      "Epoch 7/10\n",
      "1719/1719 [==============================] - 7s 4ms/step - loss: 0.2927 - accuracy: 0.8797 - val_loss: 0.2665 - val_accuracy: 0.8950\n",
      "Epoch 8/10\n",
      "1719/1719 [==============================] - 7s 4ms/step - loss: 0.2887 - accuracy: 0.8818 - val_loss: 0.2632 - val_accuracy: 0.8964\n",
      "Epoch 9/10\n",
      "1719/1719 [==============================] - 7s 4ms/step - loss: 0.2851 - accuracy: 0.8841 - val_loss: 0.2610 - val_accuracy: 0.8932\n",
      "Epoch 10/10\n",
      "1719/1719 [==============================] - 8s 4ms/step - loss: 0.2820 - accuracy: 0.8857 - val_loss: 0.2577 - val_accuracy: 0.8984\n"
     ]
    }
   ],
   "source": [
    "history = new_model.fit(X_train, y_train_bin, epochs=10,\n",
    "                    validation_data=(X_valid, y_valid_bin), verbose=1)"
   ]
  },
  {
   "cell_type": "code",
   "execution_count": 27,
   "metadata": {
    "colab": {
     "base_uri": "https://localhost:8080/"
    },
    "executionInfo": {
     "elapsed": 1022,
     "status": "ok",
     "timestamp": 1622966651769,
     "user": {
      "displayName": "colab0 ineuron",
      "photoUrl": "",
      "userId": "16851312232179065356"
     },
     "user_tz": -330
    },
    "id": "G-53DViKUS7I",
    "outputId": "8c792acd-8712-4e6f-ae28-4ff36be44cd2"
   },
   "outputs": [
    {
     "name": "stdout",
     "output_type": "stream",
     "text": [
      "313/313 [==============================] - 1s 4ms/step - loss: 0.2741 - accuracy: 0.8923\n"
     ]
    },
    {
     "data": {
      "text/plain": [
       "[0.2740752696990967, 0.892300009727478]"
      ]
     },
     "execution_count": 27,
     "metadata": {},
     "output_type": "execute_result"
    }
   ],
   "source": [
    "new_model.evaluate(X_test, y_test_bin)"
   ]
  }
 ],
 "metadata": {
  "accelerator": "GPU",
  "colab": {
   "authorship_tag": "ABX9TyPtl0bsnX4HOW8tBO0ofgt1",
   "collapsed_sections": [],
   "mount_file_id": "1eya3uImxl07yQlp5L5OHg0d79lLphv3L",
   "name": "TransferLearning.ipynb",
   "provenance": []
  },
  "kernelspec": {
   "display_name": "Python 3 (ipykernel)",
   "language": "python",
   "name": "python3"
  },
  "language_info": {
   "codemirror_mode": {
    "name": "ipython",
    "version": 3
   },
   "file_extension": ".py",
   "mimetype": "text/x-python",
   "name": "python",
   "nbconvert_exporter": "python",
   "pygments_lexer": "ipython3",
   "version": "3.10.9"
  }
 },
 "nbformat": 4,
 "nbformat_minor": 1
}
